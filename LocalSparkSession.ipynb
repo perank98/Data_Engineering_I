{
 "cells": [
  {
   "cell_type": "code",
   "execution_count": 148,
   "id": "5d477090",
   "metadata": {},
   "outputs": [],
   "source": [
    "# import \n",
    "import os\n",
    "import json\n",
    "import time\n",
    "import numpy as np\n",
    "from pyspark.sql.functions import regexp_replace, col, length, udf, StringType, when\n",
    "from transformers import AutoTokenizer, AutoModelForSequenceClassification\n",
    "from vaderSentiment.vaderSentiment import SentimentIntensityAnalyzer\n",
    "from pyspark.sql.functions import pandas_udf\n",
    "import pandas as pd\n",
    "import torch\n",
    "import torch.nn.functional as F\n",
    "import matplotlib.pyplot as plt\n",
    "import re\n",
    "from pyspark.sql import SparkSession"
   ]
  },
  {
   "cell_type": "code",
   "execution_count": 149,
   "id": "468eb64f",
   "metadata": {},
   "outputs": [],
   "source": [
    "# parameters: data size, cores to use, ram to use per core\n",
    "# print(os.cpu_count())  -> 6\n",
    "n_data = 1000\n",
    "n_cores = 4\n",
    "ram = \"6g\""
   ]
  },
  {
   "cell_type": "code",
   "execution_count": 150,
   "id": "9ce89b23",
   "metadata": {},
   "outputs": [],
   "source": [
    "# Initialize local Spark session\n",
    "spark_session = SparkSession.builder \\\n",
    "    .appName(\"project-local\") \\\n",
    "    .master(f\"local[{n_cores}]\") \\\n",
    "    .config(\"spark.executor.memory\", f\"{ram}\") \\\n",
    "    .config(\"spark.driver.memory\", f\"{ram}\") \\\n",
    "    .getOrCreate()\n",
    "\n",
    "spark_context = spark_session.sparkContext\n",
    "spark_context.setLogLevel(\"ERROR\")"
   ]
  },
  {
   "cell_type": "code",
   "execution_count": 151,
   "id": "de81c2de",
   "metadata": {},
   "outputs": [],
   "source": [
    "input_file = \"corpus-webis-tldr-17.json\"\n",
    "output_file = \"corpus-chunk.json\""
   ]
  },
  {
   "cell_type": "code",
   "execution_count": 109,
   "id": "587d59e5",
   "metadata": {},
   "outputs": [
    {
     "name": "stdout",
     "output_type": "stream",
     "text": [
      "root\n",
      " |-- content: string (nullable = true)\n",
      " |-- summary: string (nullable = true)\n",
      " |-- sentiment: string (nullable = false)\n",
      "\n",
      "Data processing took 0.5938 seconds\n"
     ]
    }
   ],
   "source": [
    "# data collection and processing\n",
    "start = time.time()\n",
    "\n",
    "# open corpus file and read n_data and write to output_file\n",
    "with open(input_file, \"r\", encoding=\"utf-8\") as fin, open(output_file, \"w\", encoding=\"utf-8\") as fout:\n",
    "    for i, line in enumerate(fin):\n",
    "        if i >= n_data:\n",
    "            break\n",
    "        fout.write(line)\n",
    "\n",
    "# cleaning\n",
    "df = spark_session.read.json(output_file)  \n",
    "df = df.na.drop() # filter out NULL rows\n",
    "df = df.withColumn(\n",
    "    \"content\",\n",
    "    regexp_replace(\n",
    "        regexp_replace(col(\"content\"), r\"\\[.*?\\]\", \"\"),   # remove [anything]\n",
    "        r\"[\\n\\r\\t]\", \" \"                                  # remove linebreaks\n",
    "    )\n",
    ")\n",
    "\n",
    "# filtering\n",
    "df = df.filter(\n",
    "    (col(\"content_len\") > 20) &\n",
    "    (col(\"summary_len\") > 10)\n",
    ")\n",
    "df = df.select(\"content\", \"summary\") # filter columns of interest\n",
    "\n",
    "# feature extraction\n",
    "df = df.withColumn(\n",
    "    \"sentiment\",\n",
    "    when(col(\"content\").rlike(r\"(?i)\\bgood|love|awesome|great\\b\"), \"positive\")\n",
    "    .when(col(\"content\").rlike(r\"(?i)\\bbad|hate|terrible|awful\\b\"), \"negative\")\n",
    "    .otherwise(\"neutral\")\n",
    ")\n",
    "\n",
    "df.printSchema()\n",
    "\n",
    "\n",
    "end = time.time()\n",
    "print(f\"Data processing took {end - start:.4f} seconds\")"
   ]
  },
  {
   "cell_type": "code",
   "execution_count": null,
   "id": "d64b34c3",
   "metadata": {},
   "outputs": [
    {
     "name": "stdout",
     "output_type": "stream",
     "text": [
      "[380000, 760000, 1140000, 1520000, 1900000, 2280000, 2660000, 3040000, 3420000, 3800000]\n"
     ]
    }
   ],
   "source": [
    "# stopping spark session and generating \"x\" data\n",
    "spark_session.stop()\n",
    "\n",
    "x = []\n",
    "start = 0\n",
    "increment = 380000\n",
    "for i in range(10):\n",
    "    start += increment\n",
    "    x.append(start)\n",
    "\n",
    "print(x)"
   ]
  },
  {
   "cell_type": "markdown",
   "id": "778a0a47",
   "metadata": {},
   "source": [
    "# scalability analysis"
   ]
  },
  {
   "cell_type": "code",
   "execution_count": 152,
   "id": "3738486d",
   "metadata": {},
   "outputs": [
    {
     "name": "stdout",
     "output_type": "stream",
     "text": [
      "root\n",
      " |-- content: string (nullable = true)\n",
      " |-- summary: string (nullable = true)\n",
      " |-- sentiment: string (nullable = false)\n",
      "\n",
      "Data processing took 8.2984 seconds\n",
      "root\n",
      " |-- content: string (nullable = true)\n",
      " |-- summary: string (nullable = true)\n",
      " |-- sentiment: string (nullable = false)\n",
      "\n",
      "Data processing took 16.6344 seconds\n",
      "root\n",
      " |-- content: string (nullable = true)\n",
      " |-- summary: string (nullable = true)\n",
      " |-- sentiment: string (nullable = false)\n",
      "\n",
      "Data processing took 22.8936 seconds\n",
      "root\n",
      " |-- content: string (nullable = true)\n",
      " |-- summary: string (nullable = true)\n",
      " |-- sentiment: string (nullable = false)\n",
      "\n",
      "Data processing took 28.6531 seconds\n",
      "root\n",
      " |-- content: string (nullable = true)\n",
      " |-- summary: string (nullable = true)\n",
      " |-- sentiment: string (nullable = false)\n",
      "\n",
      "Data processing took 37.3061 seconds\n",
      "root\n",
      " |-- content: string (nullable = true)\n",
      " |-- summary: string (nullable = true)\n",
      " |-- sentiment: string (nullable = false)\n",
      "\n",
      "Data processing took 43.6364 seconds\n",
      "root\n",
      " |-- content: string (nullable = true)\n",
      " |-- summary: string (nullable = true)\n",
      " |-- sentiment: string (nullable = false)\n",
      "\n",
      "Data processing took 55.9579 seconds\n",
      "root\n",
      " |-- content: string (nullable = true)\n",
      " |-- summary: string (nullable = true)\n",
      " |-- sentiment: string (nullable = false)\n",
      "\n",
      "Data processing took 66.3093 seconds\n",
      "root\n",
      " |-- content: string (nullable = true)\n",
      " |-- summary: string (nullable = true)\n",
      " |-- sentiment: string (nullable = false)\n",
      "\n",
      "Data processing took 77.7094 seconds\n",
      "root\n",
      " |-- content: string (nullable = true)\n",
      " |-- summary: string (nullable = true)\n",
      " |-- sentiment: string (nullable = false)\n",
      "\n",
      "Data processing took 88.6003 seconds\n"
     ]
    }
   ],
   "source": [
    "data = [380000, 760000, 1140000, 1520000, 1900000, 2280000, 2660000, 3040000, 3420000, 3800000]\n",
    "times = []\n",
    "\n",
    "for data_size in data:\n",
    "    start = time.time()\n",
    "    # open corpus file and read n_data and write to output_file\n",
    "    with open(input_file, \"r\", encoding=\"utf-8\") as fin, open(output_file, \"w\", encoding=\"utf-8\") as fout:\n",
    "        for i, line in enumerate(fin):\n",
    "            if i >= data_size:\n",
    "                break\n",
    "            fout.write(line)\n",
    "\n",
    "    # cleaning\n",
    "    df = spark_session.read.json(output_file)  \n",
    "    df = df.na.drop() # filter out NULL rows\n",
    "    df = df.withColumn(\n",
    "        \"content\",\n",
    "        regexp_replace(\n",
    "            regexp_replace(col(\"content\"), r\"\\[.*?\\]\", \"\"),   # remove [anything]\n",
    "            r\"[\\n\\r\\t]\", \" \"                                  # remove linebreaks\n",
    "        )\n",
    "    )\n",
    "\n",
    "    # filtering\n",
    "    df = df.filter(\n",
    "        (col(\"content_len\") > 20) &\n",
    "        (col(\"summary_len\") > 10)\n",
    "    )\n",
    "    df = df.select(\"content\", \"summary\") # filter columns of interest\n",
    "\n",
    "    # feature extraction\n",
    "    df = df.withColumn(\n",
    "        \"sentiment\",\n",
    "        when(col(\"content\").rlike(r\"(?i)\\bgood|love|awesome|great\\b\"), \"positive\")\n",
    "        .when(col(\"content\").rlike(r\"(?i)\\bbad|hate|terrible|awful\\b\"), \"negative\")\n",
    "        .otherwise(\"neutral\")\n",
    "    )\n",
    "\n",
    "    df.printSchema()\n",
    "\n",
    "\n",
    "    end = time.time()\n",
    "\n",
    "    # derive duration\n",
    "    duration = end - start\n",
    "    times.append(duration)\n",
    "\n",
    "    \n",
    "    print(f\"Data processing took {duration:.4f} seconds\")"
   ]
  },
  {
   "cell_type": "code",
   "execution_count": 157,
   "id": "bc3d14cf",
   "metadata": {},
   "outputs": [
    {
     "name": "stdout",
     "output_type": "stream",
     "text": [
      "[45791.72612687571, 45688.54613273623, 49795.563119874634, 53048.27383522435, 50930.03202283016, 52250.00415245725, 47535.764192278904, 45845.738080949035, 44010.14206802289, 42889.236258187135]\n"
     ]
    }
   ],
   "source": [
    "throughputs = []\n",
    "for i in range(len(data)): \n",
    "    throughput = data[i] / times[i]\n",
    "    throughputs.append(throughput)\n",
    "\n",
    "print(throughputs)"
   ]
  },
  {
   "cell_type": "code",
   "execution_count": 158,
   "id": "d26da21d",
   "metadata": {},
   "outputs": [
    {
     "name": "stdout",
     "output_type": "stream",
     "text": [
      "[8.298442363739014, 16.634366035461426, 22.893605947494507, 28.653147220611572, 37.30608296394348, 43.63636016845703, 55.95786762237549, 66.309326171875, 77.70936059951782, 88.60031867027283]\n"
     ]
    },
    {
     "data": {
      "image/png": "[encoded data removed]",
      "text/plain": [
       "<Figure size 640x480 with 1 Axes>"
      ]
     },
     "metadata": {},
     "output_type": "display_data"
    }
   ],
   "source": [
    "# print out plot(s)\n",
    "print(times)\n",
    "plt.plot(data, throughputs, marker='x', label='Throughput')\n",
    "plt.xlabel('data size')\n",
    "plt.ylabel('data processed per second')\n",
    "plt.title('Throughput')\n",
    "plt.grid(True)\n",
    "plt.show()"
   ]
  },
  {
   "cell_type": "code",
   "execution_count": 159,
   "id": "5ab3d2a9",
   "metadata": {},
   "outputs": [
    {
     "name": "stdout",
     "output_type": "stream",
     "text": [
      "[8.298442363739014, 16.634366035461426, 22.893605947494507, 28.653147220611572, 37.30608296394348, 43.63636016845703, 55.95786762237549, 66.309326171875, 77.70936059951782, 88.60031867027283]\n"
     ]
    },
    {
     "data": {
      "image/png": "[encoded data removed]",
      "text/plain": [
       "<Figure size 640x480 with 1 Axes>"
      ]
     },
     "metadata": {},
     "output_type": "display_data"
    }
   ],
   "source": [
    "# print out plot(s)\n",
    "print(times)\n",
    "plt.plot(data, times, marker='x', label='Throughput')\n",
    "plt.xlabel('data size')\n",
    "plt.ylabel('Time (s)')\n",
    "plt.title('Time complexity')\n",
    "plt.grid(True)\n",
    "plt.show()"
   ]
  },
  {
   "cell_type": "code",
   "execution_count": 156,
   "id": "0f50997a",
   "metadata": {},
   "outputs": [
    {
     "name": "stdout",
     "output_type": "stream",
     "text": [
      "44.599887776374814\n"
     ]
    }
   ],
   "source": [
    "averagetime = np.mean(times)\n",
    "print(averagetime)"
   ]
  },
  {
   "cell_type": "code",
   "execution_count": null,
   "id": "4cb099ab",
   "metadata": {},
   "outputs": [],
   "source": [
    "# 4 cores : average time: 48.11000294685364\n",
    "# 3 cores : average time: 50.87255311012268\n",
    "# 2 cores : average time: 55.78757753372192\n",
    "# 1 cores : average time: 67.99557745456696"
   ]
  },
  {
   "cell_type": "code",
   "execution_count": 123,
   "id": "aea5c00e",
   "metadata": {},
   "outputs": [],
   "source": [
    "T = [67.99557745456696, 55.78757753372192, 50.87255311012268, 48.11000294685364]\n",
    "cores = [1,2,3,4]"
   ]
  },
  {
   "cell_type": "code",
   "execution_count": null,
   "id": "355f3852",
   "metadata": {},
   "outputs": [
    {
     "name": "stdout",
     "output_type": "stream",
     "text": [
      "[1.0, 1.218830077600442, 1.3365866915973028, 1.4133355495671158]\n",
      "1\n",
      "2\n",
      "3\n",
      "[1.218830077600442, 0.6682933457986514, 0.47111184985570526]\n"
     ]
    }
   ],
   "source": [
    "speedups = []\n",
    "effeciencies = []\n",
    "\n",
    "# speedup(n)\n",
    "for n in range(len(cores)):\n",
    "    speedup = T[0] / T[n]\n",
    "    speedups.append(speedup)\n",
    "print(speedups)\n",
    "\n",
    "# effeciency(n)\n",
    "\n",
    "for n in range(1, len(cores)): # to avoid zerodivisionerror\n",
    "    effeciency = speedups[n] / (n)\n",
    "    effeciencies.append(effeciency)\n",
    "print(effeciencies)"
   ]
  },
  {
   "cell_type": "markdown",
   "id": "e97b52c9",
   "metadata": {},
   "source": [
    "# use downstream data for ml models such as seq2seq or sentiment analysis"
   ]
  },
  {
   "cell_type": "code",
   "execution_count": null,
   "id": "61f6a4f2",
   "metadata": {},
   "outputs": [
    {
     "ename": "KeyboardInterrupt",
     "evalue": "",
     "output_type": "error",
     "traceback": [
      "\u001b[1;31m---------------------------------------------------------------------------\u001b[0m",
      "\u001b[1;31mKeyboardInterrupt\u001b[0m                         Traceback (most recent call last)",
      "Cell \u001b[1;32mIn[9], line 5\u001b[0m\n\u001b[0;32m      3\u001b[0m model_name \u001b[38;5;241m=\u001b[39m \u001b[38;5;124m\"\u001b[39m\u001b[38;5;124mfacebook/bart-large-cnn\u001b[39m\u001b[38;5;124m\"\u001b[39m\n\u001b[0;32m      4\u001b[0m tokenizer \u001b[38;5;241m=\u001b[39m BartTokenizer\u001b[38;5;241m.\u001b[39mfrom_pretrained(model_name)\n\u001b[1;32m----> 5\u001b[0m model \u001b[38;5;241m=\u001b[39m \u001b[43mBartForConditionalGeneration\u001b[49m\u001b[38;5;241;43m.\u001b[39;49m\u001b[43mfrom_pretrained\u001b[49m\u001b[43m(\u001b[49m\u001b[43mmodel_name\u001b[49m\u001b[43m)\u001b[49m\n\u001b[0;32m      7\u001b[0m text \u001b[38;5;241m=\u001b[39m \u001b[38;5;124m\"\u001b[39m\u001b[38;5;124mApple Inc. reported strong earnings due to iPhone sales and service revenue.\u001b[39m\u001b[38;5;124m\"\u001b[39m\n\u001b[0;32m      9\u001b[0m \u001b[38;5;66;03m# Encode input\u001b[39;00m\n",
      "File \u001b[1;32m~\\AppData\\Roaming\\Python\\Python38\\site-packages\\transformers\\modeling_utils.py:4225\u001b[0m, in \u001b[0;36mPreTrainedModel.from_pretrained\u001b[1;34m(cls, pretrained_model_name_or_path, config, cache_dir, ignore_mismatched_sizes, force_download, local_files_only, token, revision, use_safetensors, weights_only, *model_args, **kwargs)\u001b[0m\n\u001b[0;32m   4215\u001b[0m     \u001b[38;5;28;01mif\u001b[39;00m dtype_orig \u001b[38;5;129;01mis\u001b[39;00m \u001b[38;5;129;01mnot\u001b[39;00m \u001b[38;5;28;01mNone\u001b[39;00m:\n\u001b[0;32m   4216\u001b[0m         torch\u001b[38;5;241m.\u001b[39mset_default_dtype(dtype_orig)\n\u001b[0;32m   4218\u001b[0m     (\n\u001b[0;32m   4219\u001b[0m         model,\n\u001b[0;32m   4220\u001b[0m         missing_keys,\n\u001b[0;32m   4221\u001b[0m         unexpected_keys,\n\u001b[0;32m   4222\u001b[0m         mismatched_keys,\n\u001b[0;32m   4223\u001b[0m         offload_index,\n\u001b[0;32m   4224\u001b[0m         error_msgs,\n\u001b[1;32m-> 4225\u001b[0m     ) \u001b[38;5;241m=\u001b[39m \u001b[38;5;28;43mcls\u001b[39;49m\u001b[38;5;241;43m.\u001b[39;49m\u001b[43m_load_pretrained_model\u001b[49m\u001b[43m(\u001b[49m\n\u001b[0;32m   4226\u001b[0m \u001b[43m        \u001b[49m\u001b[43mmodel\u001b[49m\u001b[43m,\u001b[49m\n\u001b[0;32m   4227\u001b[0m \u001b[43m        \u001b[49m\u001b[43mstate_dict\u001b[49m\u001b[43m,\u001b[49m\n\u001b[0;32m   4228\u001b[0m \u001b[43m        \u001b[49m\u001b[43mloaded_state_dict_keys\u001b[49m\u001b[43m,\u001b[49m\u001b[43m  \u001b[49m\u001b[38;5;66;43;03m# XXX: rename?\u001b[39;49;00m\n\u001b[0;32m   4229\u001b[0m \u001b[43m        \u001b[49m\u001b[43mresolved_archive_file\u001b[49m\u001b[43m,\u001b[49m\n\u001b[0;32m   4230\u001b[0m \u001b[43m        \u001b[49m\u001b[43mpretrained_model_name_or_path\u001b[49m\u001b[43m,\u001b[49m\n\u001b[0;32m   4231\u001b[0m \u001b[43m        \u001b[49m\u001b[43mignore_mismatched_sizes\u001b[49m\u001b[38;5;241;43m=\u001b[39;49m\u001b[43mignore_mismatched_sizes\u001b[49m\u001b[43m,\u001b[49m\n\u001b[0;32m   4232\u001b[0m \u001b[43m        \u001b[49m\u001b[43msharded_metadata\u001b[49m\u001b[38;5;241;43m=\u001b[39;49m\u001b[43msharded_metadata\u001b[49m\u001b[43m,\u001b[49m\n\u001b[0;32m   4233\u001b[0m \u001b[43m        \u001b[49m\u001b[43m_fast_init\u001b[49m\u001b[38;5;241;43m=\u001b[39;49m\u001b[43m_fast_init\u001b[49m\u001b[43m,\u001b[49m\n\u001b[0;32m   4234\u001b[0m \u001b[43m        \u001b[49m\u001b[43mlow_cpu_mem_usage\u001b[49m\u001b[38;5;241;43m=\u001b[39;49m\u001b[43mlow_cpu_mem_usage\u001b[49m\u001b[43m,\u001b[49m\n\u001b[0;32m   4235\u001b[0m \u001b[43m        \u001b[49m\u001b[43mdevice_map\u001b[49m\u001b[38;5;241;43m=\u001b[39;49m\u001b[43mdevice_map\u001b[49m\u001b[43m,\u001b[49m\n\u001b[0;32m   4236\u001b[0m \u001b[43m        \u001b[49m\u001b[43moffload_folder\u001b[49m\u001b[38;5;241;43m=\u001b[39;49m\u001b[43moffload_folder\u001b[49m\u001b[43m,\u001b[49m\n\u001b[0;32m   4237\u001b[0m \u001b[43m        \u001b[49m\u001b[43moffload_state_dict\u001b[49m\u001b[38;5;241;43m=\u001b[39;49m\u001b[43moffload_state_dict\u001b[49m\u001b[43m,\u001b[49m\n\u001b[0;32m   4238\u001b[0m \u001b[43m        \u001b[49m\u001b[43mdtype\u001b[49m\u001b[38;5;241;43m=\u001b[39;49m\u001b[43mtorch_dtype\u001b[49m\u001b[43m,\u001b[49m\n\u001b[0;32m   4239\u001b[0m \u001b[43m        \u001b[49m\u001b[43mhf_quantizer\u001b[49m\u001b[38;5;241;43m=\u001b[39;49m\u001b[43mhf_quantizer\u001b[49m\u001b[43m,\u001b[49m\n\u001b[0;32m   4240\u001b[0m \u001b[43m        \u001b[49m\u001b[43mkeep_in_fp32_modules\u001b[49m\u001b[38;5;241;43m=\u001b[39;49m\u001b[43mkeep_in_fp32_modules\u001b[49m\u001b[43m,\u001b[49m\n\u001b[0;32m   4241\u001b[0m \u001b[43m        \u001b[49m\u001b[43mgguf_path\u001b[49m\u001b[38;5;241;43m=\u001b[39;49m\u001b[43mgguf_path\u001b[49m\u001b[43m,\u001b[49m\n\u001b[0;32m   4242\u001b[0m \u001b[43m        \u001b[49m\u001b[43mweights_only\u001b[49m\u001b[38;5;241;43m=\u001b[39;49m\u001b[43mweights_only\u001b[49m\u001b[43m,\u001b[49m\n\u001b[0;32m   4243\u001b[0m \u001b[43m    \u001b[49m\u001b[43m)\u001b[49m\n\u001b[0;32m   4245\u001b[0m \u001b[38;5;66;03m# make sure token embedding weights are still tied if needed\u001b[39;00m\n\u001b[0;32m   4246\u001b[0m model\u001b[38;5;241m.\u001b[39mtie_weights()\n",
      "File \u001b[1;32m~\\AppData\\Roaming\\Python\\Python38\\site-packages\\transformers\\modeling_utils.py:4663\u001b[0m, in \u001b[0;36mPreTrainedModel._load_pretrained_model\u001b[1;34m(cls, model, state_dict, loaded_keys, resolved_archive_file, pretrained_model_name_or_path, ignore_mismatched_sizes, sharded_metadata, _fast_init, low_cpu_mem_usage, device_map, offload_folder, offload_state_dict, dtype, hf_quantizer, keep_in_fp32_modules, gguf_path, weights_only)\u001b[0m\n\u001b[0;32m   4658\u001b[0m     \u001b[38;5;28;01melse\u001b[39;00m:\n\u001b[0;32m   4659\u001b[0m         \u001b[38;5;66;03m# Sharded checkpoint or whole but low_cpu_mem_usage==True\u001b[39;00m\n\u001b[0;32m   4660\u001b[0m         assign_to_params_buffers \u001b[38;5;241m=\u001b[39m check_support_param_buffer_assignment(\n\u001b[0;32m   4661\u001b[0m             model_to_load, state_dict, start_prefix\n\u001b[0;32m   4662\u001b[0m         )\n\u001b[1;32m-> 4663\u001b[0m         error_msgs \u001b[38;5;241m=\u001b[39m \u001b[43m_load_state_dict_into_model\u001b[49m\u001b[43m(\u001b[49m\n\u001b[0;32m   4664\u001b[0m \u001b[43m            \u001b[49m\u001b[43mmodel_to_load\u001b[49m\u001b[43m,\u001b[49m\u001b[43m \u001b[49m\u001b[43mstate_dict\u001b[49m\u001b[43m,\u001b[49m\u001b[43m \u001b[49m\u001b[43mstart_prefix\u001b[49m\u001b[43m,\u001b[49m\u001b[43m \u001b[49m\u001b[43massign_to_params_buffers\u001b[49m\n\u001b[0;32m   4665\u001b[0m \u001b[43m        \u001b[49m\u001b[43m)\u001b[49m\n\u001b[0;32m   4667\u001b[0m \u001b[38;5;28;01melse\u001b[39;00m:\n\u001b[0;32m   4668\u001b[0m     \u001b[38;5;66;03m# This should always be a list but, just to be sure.\u001b[39;00m\n\u001b[0;32m   4669\u001b[0m     \u001b[38;5;28;01mif\u001b[39;00m \u001b[38;5;129;01mnot\u001b[39;00m \u001b[38;5;28misinstance\u001b[39m(resolved_archive_file, \u001b[38;5;28mlist\u001b[39m):\n",
      "File \u001b[1;32m~\\AppData\\Roaming\\Python\\Python38\\site-packages\\transformers\\modeling_utils.py:775\u001b[0m, in \u001b[0;36m_load_state_dict_into_model\u001b[1;34m(model_to_load, state_dict, start_prefix, assign_to_params_buffers)\u001b[0m\n\u001b[0;32m    772\u001b[0m         \u001b[38;5;28;01mif\u001b[39;00m child \u001b[38;5;129;01mis\u001b[39;00m \u001b[38;5;129;01mnot\u001b[39;00m \u001b[38;5;28;01mNone\u001b[39;00m:\n\u001b[0;32m    773\u001b[0m             load(child, state_dict, prefix \u001b[38;5;241m+\u001b[39m name \u001b[38;5;241m+\u001b[39m \u001b[38;5;124m\"\u001b[39m\u001b[38;5;124m.\u001b[39m\u001b[38;5;124m\"\u001b[39m, assign_to_params_buffers)\n\u001b[1;32m--> 775\u001b[0m \u001b[43mload\u001b[49m\u001b[43m(\u001b[49m\u001b[43mmodel_to_load\u001b[49m\u001b[43m,\u001b[49m\u001b[43m \u001b[49m\u001b[43mstate_dict\u001b[49m\u001b[43m,\u001b[49m\u001b[43m \u001b[49m\u001b[43mprefix\u001b[49m\u001b[38;5;241;43m=\u001b[39;49m\u001b[43mstart_prefix\u001b[49m\u001b[43m,\u001b[49m\u001b[43m \u001b[49m\u001b[43massign_to_params_buffers\u001b[49m\u001b[38;5;241;43m=\u001b[39;49m\u001b[43massign_to_params_buffers\u001b[49m\u001b[43m)\u001b[49m\n\u001b[0;32m    776\u001b[0m \u001b[38;5;66;03m# Delete `state_dict` so it could be collected by GC earlier. Note that `state_dict` is a copy of the argument, so\u001b[39;00m\n\u001b[0;32m    777\u001b[0m \u001b[38;5;66;03m# it's safe to delete it.\u001b[39;00m\n\u001b[0;32m    778\u001b[0m \u001b[38;5;28;01mdel\u001b[39;00m state_dict\n",
      "File \u001b[1;32m~\\AppData\\Roaming\\Python\\Python38\\site-packages\\transformers\\modeling_utils.py:773\u001b[0m, in \u001b[0;36m_load_state_dict_into_model.<locals>.load\u001b[1;34m(module, state_dict, prefix, assign_to_params_buffers)\u001b[0m\n\u001b[0;32m    771\u001b[0m \u001b[38;5;28;01mfor\u001b[39;00m name, child \u001b[38;5;129;01min\u001b[39;00m module\u001b[38;5;241m.\u001b[39m_modules\u001b[38;5;241m.\u001b[39mitems():\n\u001b[0;32m    772\u001b[0m     \u001b[38;5;28;01mif\u001b[39;00m child \u001b[38;5;129;01mis\u001b[39;00m \u001b[38;5;129;01mnot\u001b[39;00m \u001b[38;5;28;01mNone\u001b[39;00m:\n\u001b[1;32m--> 773\u001b[0m         \u001b[43mload\u001b[49m\u001b[43m(\u001b[49m\u001b[43mchild\u001b[49m\u001b[43m,\u001b[49m\u001b[43m \u001b[49m\u001b[43mstate_dict\u001b[49m\u001b[43m,\u001b[49m\u001b[43m \u001b[49m\u001b[43mprefix\u001b[49m\u001b[43m \u001b[49m\u001b[38;5;241;43m+\u001b[39;49m\u001b[43m \u001b[49m\u001b[43mname\u001b[49m\u001b[43m \u001b[49m\u001b[38;5;241;43m+\u001b[39;49m\u001b[43m \u001b[49m\u001b[38;5;124;43m\"\u001b[39;49m\u001b[38;5;124;43m.\u001b[39;49m\u001b[38;5;124;43m\"\u001b[39;49m\u001b[43m,\u001b[49m\u001b[43m \u001b[49m\u001b[43massign_to_params_buffers\u001b[49m\u001b[43m)\u001b[49m\n",
      "File \u001b[1;32m~\\AppData\\Roaming\\Python\\Python38\\site-packages\\transformers\\modeling_utils.py:773\u001b[0m, in \u001b[0;36m_load_state_dict_into_model.<locals>.load\u001b[1;34m(module, state_dict, prefix, assign_to_params_buffers)\u001b[0m\n\u001b[0;32m    771\u001b[0m \u001b[38;5;28;01mfor\u001b[39;00m name, child \u001b[38;5;129;01min\u001b[39;00m module\u001b[38;5;241m.\u001b[39m_modules\u001b[38;5;241m.\u001b[39mitems():\n\u001b[0;32m    772\u001b[0m     \u001b[38;5;28;01mif\u001b[39;00m child \u001b[38;5;129;01mis\u001b[39;00m \u001b[38;5;129;01mnot\u001b[39;00m \u001b[38;5;28;01mNone\u001b[39;00m:\n\u001b[1;32m--> 773\u001b[0m         \u001b[43mload\u001b[49m\u001b[43m(\u001b[49m\u001b[43mchild\u001b[49m\u001b[43m,\u001b[49m\u001b[43m \u001b[49m\u001b[43mstate_dict\u001b[49m\u001b[43m,\u001b[49m\u001b[43m \u001b[49m\u001b[43mprefix\u001b[49m\u001b[43m \u001b[49m\u001b[38;5;241;43m+\u001b[39;49m\u001b[43m \u001b[49m\u001b[43mname\u001b[49m\u001b[43m \u001b[49m\u001b[38;5;241;43m+\u001b[39;49m\u001b[43m \u001b[49m\u001b[38;5;124;43m\"\u001b[39;49m\u001b[38;5;124;43m.\u001b[39;49m\u001b[38;5;124;43m\"\u001b[39;49m\u001b[43m,\u001b[49m\u001b[43m \u001b[49m\u001b[43massign_to_params_buffers\u001b[49m\u001b[43m)\u001b[49m\n",
      "File \u001b[1;32m~\\AppData\\Roaming\\Python\\Python38\\site-packages\\transformers\\modeling_utils.py:773\u001b[0m, in \u001b[0;36m_load_state_dict_into_model.<locals>.load\u001b[1;34m(module, state_dict, prefix, assign_to_params_buffers)\u001b[0m\n\u001b[0;32m    771\u001b[0m \u001b[38;5;28;01mfor\u001b[39;00m name, child \u001b[38;5;129;01min\u001b[39;00m module\u001b[38;5;241m.\u001b[39m_modules\u001b[38;5;241m.\u001b[39mitems():\n\u001b[0;32m    772\u001b[0m     \u001b[38;5;28;01mif\u001b[39;00m child \u001b[38;5;129;01mis\u001b[39;00m \u001b[38;5;129;01mnot\u001b[39;00m \u001b[38;5;28;01mNone\u001b[39;00m:\n\u001b[1;32m--> 773\u001b[0m         \u001b[43mload\u001b[49m\u001b[43m(\u001b[49m\u001b[43mchild\u001b[49m\u001b[43m,\u001b[49m\u001b[43m \u001b[49m\u001b[43mstate_dict\u001b[49m\u001b[43m,\u001b[49m\u001b[43m \u001b[49m\u001b[43mprefix\u001b[49m\u001b[43m \u001b[49m\u001b[38;5;241;43m+\u001b[39;49m\u001b[43m \u001b[49m\u001b[43mname\u001b[49m\u001b[43m \u001b[49m\u001b[38;5;241;43m+\u001b[39;49m\u001b[43m \u001b[49m\u001b[38;5;124;43m\"\u001b[39;49m\u001b[38;5;124;43m.\u001b[39;49m\u001b[38;5;124;43m\"\u001b[39;49m\u001b[43m,\u001b[49m\u001b[43m \u001b[49m\u001b[43massign_to_params_buffers\u001b[49m\u001b[43m)\u001b[49m\n",
      "File \u001b[1;32m~\\AppData\\Roaming\\Python\\Python38\\site-packages\\transformers\\modeling_utils.py:769\u001b[0m, in \u001b[0;36m_load_state_dict_into_model.<locals>.load\u001b[1;34m(module, state_dict, prefix, assign_to_params_buffers)\u001b[0m\n\u001b[0;32m    767\u001b[0m                     module\u001b[38;5;241m.\u001b[39m_load_from_state_dict(\u001b[38;5;241m*\u001b[39margs)\n\u001b[0;32m    768\u001b[0m     \u001b[38;5;28;01melse\u001b[39;00m:\n\u001b[1;32m--> 769\u001b[0m         \u001b[43mmodule\u001b[49m\u001b[38;5;241;43m.\u001b[39;49m\u001b[43m_load_from_state_dict\u001b[49m\u001b[43m(\u001b[49m\u001b[38;5;241;43m*\u001b[39;49m\u001b[43margs\u001b[49m\u001b[43m)\u001b[49m\n\u001b[0;32m    771\u001b[0m \u001b[38;5;28;01mfor\u001b[39;00m name, child \u001b[38;5;129;01min\u001b[39;00m module\u001b[38;5;241m.\u001b[39m_modules\u001b[38;5;241m.\u001b[39mitems():\n\u001b[0;32m    772\u001b[0m     \u001b[38;5;28;01mif\u001b[39;00m child \u001b[38;5;129;01mis\u001b[39;00m \u001b[38;5;129;01mnot\u001b[39;00m \u001b[38;5;28;01mNone\u001b[39;00m:\n",
      "File \u001b[1;32m~\\AppData\\Roaming\\Python\\Python38\\site-packages\\torch\\nn\\modules\\module.py:2096\u001b[0m, in \u001b[0;36mModule._load_from_state_dict\u001b[1;34m(self, state_dict, prefix, local_metadata, strict, missing_keys, unexpected_keys, error_msgs)\u001b[0m\n\u001b[0;32m   2094\u001b[0m             \u001b[38;5;28msetattr\u001b[39m(\u001b[38;5;28mself\u001b[39m, name, input_param)\n\u001b[0;32m   2095\u001b[0m         \u001b[38;5;28;01melse\u001b[39;00m:\n\u001b[1;32m-> 2096\u001b[0m             \u001b[43mparam\u001b[49m\u001b[38;5;241;43m.\u001b[39;49m\u001b[43mcopy_\u001b[49m\u001b[43m(\u001b[49m\u001b[43minput_param\u001b[49m\u001b[43m)\u001b[49m\n\u001b[0;32m   2097\u001b[0m \u001b[38;5;28;01mexcept\u001b[39;00m \u001b[38;5;167;01mException\u001b[39;00m \u001b[38;5;28;01mas\u001b[39;00m ex:\n\u001b[0;32m   2098\u001b[0m     action \u001b[38;5;241m=\u001b[39m \u001b[38;5;124m\"\u001b[39m\u001b[38;5;124mswapping\u001b[39m\u001b[38;5;124m\"\u001b[39m \u001b[38;5;28;01mif\u001b[39;00m use_swap_tensors \u001b[38;5;28;01melse\u001b[39;00m \u001b[38;5;124m\"\u001b[39m\u001b[38;5;124mcopying\u001b[39m\u001b[38;5;124m\"\u001b[39m\n",
      "\u001b[1;31mKeyboardInterrupt\u001b[0m: "
     ]
    }
   ],
   "source": [
    "# example use case: generate summary given inputted text\n",
    "\n",
    "from transformers import BartForConditionalGeneration, BartTokenizer\n",
    "\n",
    "model_name = \"facebook/bart-large-cnn\"\n",
    "tokenizer = BartTokenizer.from_pretrained(model_name)\n",
    "model = BartForConditionalGeneration.from_pretrained(model_name)\n",
    "\n",
    "text = \"Apple Inc. reported strong earnings due to iPhone sales and service revenue.\"\n",
    "\n",
    "# Encode input\n",
    "inputs = tokenizer(text, return_tensors=\"pt\", max_length=1024, truncation=True)\n",
    "\n",
    "# Generate summary\n",
    "summary_ids = model.generate(inputs[\"input_ids\"], max_length=40, num_beams=4, early_stopping=True)\n",
    "\n",
    "# Decode output\n",
    "summary = tokenizer.decode(summary_ids[0], skip_special_tokens=True)\n",
    "\n",
    "print(summary)"
   ]
  }
 ],
 "metadata": {
  "kernelspec": {
   "display_name": "Python 3",
   "language": "python",
   "name": "python3"
  },
  "language_info": {
   "codemirror_mode": {
    "name": "ipython",
    "version": 3
   },
   "file_extension": ".py",
   "mimetype": "text/x-python",
   "name": "python",
   "nbconvert_exporter": "python",
   "pygments_lexer": "ipython3",
   "version": "3.8.2"
  }
 },
 "nbformat": 4,
 "nbformat_minor": 5
}
